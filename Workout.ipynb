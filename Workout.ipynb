{
  "nbformat": 4,
  "nbformat_minor": 0,
  "metadata": {
    "colab": {
      "name": "Workout.ipynb",
      "provenance": [],
      "collapsed_sections": [],
      "authorship_tag": "ABX9TyPqiMLRLKlu/HroTVw58Q3X",
      "include_colab_link": true
    },
    "kernelspec": {
      "name": "python3",
      "display_name": "Python 3"
    },
    "language_info": {
      "name": "python"
    }
  },
  "cells": [
    {
      "cell_type": "markdown",
      "metadata": {
        "id": "view-in-github",
        "colab_type": "text"
      },
      "source": [
        "<a href=\"https://colab.research.google.com/github/saksham657/Summer-Microcredential/blob/main/Workout.ipynb\" target=\"_parent\"><img src=\"https://colab.research.google.com/assets/colab-badge.svg\" alt=\"Open In Colab\"/></a>"
      ]
    },
    {
      "cell_type": "markdown",
      "source": [
        "# Python Practice Problems"
      ],
      "metadata": {
        "id": "_i_5kOIznDLL"
      }
    },
    {
      "cell_type": "markdown",
      "source": [
        "## 1) Display numbers divisible by 5 from a list"
      ],
      "metadata": {
        "id": "6JOt3gZ5nQLZ"
      }
    },
    {
      "cell_type": "code",
      "source": [
        "def special_numbers(n):\n",
        "  \"\"\"\n",
        "  description: This function would give us numbers that are divisible by 5 form a list of numbers  \n",
        "  Created by: Saksham, Sakib, and Diana\n",
        "  Input: List of numbers \n",
        "  Output: Numbers that are divisible by 5.\n",
        "  \"\"\" \n",
        "  num = []\n",
        "  for i in n:\n",
        "    if i % 5 == 0:\n",
        "      num.append(i)\n",
        "  return(num)"
      ],
      "metadata": {
        "id": "uVy5jGfGnapk"
      },
      "execution_count": null,
      "outputs": []
    },
    {
      "cell_type": "code",
      "source": [
        "help (special_numbers)"
      ],
      "metadata": {
        "colab": {
          "base_uri": "https://localhost:8080/"
        },
        "id": "KY9aOLqTo0Rf",
        "outputId": "8768c78a-e6ea-481d-eb06-d5ab0712d7b7"
      },
      "execution_count": null,
      "outputs": [
        {
          "output_type": "stream",
          "name": "stdout",
          "text": [
            "Help on function special_numbers in module __main__:\n",
            "\n",
            "special_numbers(n)\n",
            "    description: This function would give us numbers that are divisible by 5 form a list of numbers  \n",
            "    Created by: Saksham, Sakib, and Diana\n",
            "    Input: List of numbers \n",
            "    Output: Numbers that are divisible by 5.\n",
            "\n"
          ]
        }
      ]
    },
    {
      "cell_type": "code",
      "source": [
        "special_numbers([25,50,17,29,46,55,70,11015])"
      ],
      "metadata": {
        "colab": {
          "base_uri": "https://localhost:8080/"
        },
        "id": "0cmEN4qMo4By",
        "outputId": "58c31e1b-82e7-40b1-f3be-bc56e0847327"
      },
      "execution_count": null,
      "outputs": [
        {
          "output_type": "execute_result",
          "data": {
            "text/plain": [
              "[25, 50, 55, 70, 11015]"
            ]
          },
          "metadata": {},
          "execution_count": 12
        }
      ]
    },
    {
      "cell_type": "markdown",
      "source": [
        "## 2) Check if the first and the last number of a list is the same"
      ],
      "metadata": {
        "id": "LudZzRRurWB_"
      }
    },
    {
      "cell_type": "code",
      "source": [
        "def first_last_same(numberList):\n",
        "  print(\"Given List:\", numberList)\n",
        "\n",
        "  first_num = numberList[0]\n",
        "  last_num = numberList[-1]\n",
        "\n",
        "  if first_num == last_num:\n",
        "    print(\"True\") \n",
        "  else: \n",
        "    print(\"False\")\n",
        "\n",
        "numbers_x = [10,20,30,40,10]\n",
        "print(\"Result is\", first_last_same(numbers_x))\n",
        "\n",
        "\n",
        "\n"
      ],
      "metadata": {
        "id": "qCuGnzfXrdon",
        "colab": {
          "base_uri": "https://localhost:8080/"
        },
        "outputId": "2598cd09-cb65-42c7-bdfc-b6ce313f240f"
      },
      "execution_count": 5,
      "outputs": [
        {
          "output_type": "stream",
          "name": "stdout",
          "text": [
            "Given List: [10, 20, 30, 40, 10]\n",
            "True\n",
            "Result is None\n"
          ]
        }
      ]
    },
    {
      "cell_type": "code",
      "source": [
        "numbers_y = [75, 65, 35, 75, 30]\n",
        "print(\"Result is\",first_last_same(numbers_y))"
      ],
      "metadata": {
        "colab": {
          "base_uri": "https://localhost:8080/"
        },
        "id": "-ncRY21tZ8xe",
        "outputId": "f36d9e2a-1b83-4aee-86be-8c4b63a4ebc7"
      },
      "execution_count": 6,
      "outputs": [
        {
          "output_type": "stream",
          "name": "stdout",
          "text": [
            "Given List: [75, 65, 35, 75, 30]\n",
            "False\n",
            "Result is None\n"
          ]
        }
      ]
    },
    {
      "cell_type": "markdown",
      "source": [
        "## 3) Display the first and last colors from the a given list"
      ],
      "metadata": {
        "id": "qmotnnOrtTRW"
      }
    },
    {
      "cell_type": "code",
      "source": [
        "color_list = [\"red\", \"green\", \"yellow\", \"blue\", \"white\"]\n",
        "print(color_list[0], color_list[-1])\n",
        "\n"
      ],
      "metadata": {
        "id": "gF1-wpMax5vK",
        "colab": {
          "base_uri": "https://localhost:8080/"
        },
        "outputId": "7b92a0a0-af7f-42cf-e25f-d4447a4b467b"
      },
      "execution_count": 7,
      "outputs": [
        {
          "output_type": "stream",
          "name": "stdout",
          "text": [
            "red white\n"
          ]
        }
      ]
    },
    {
      "cell_type": "markdown",
      "source": [
        "## 4) Input an integer (n) and computes the value of n + nn + nnn"
      ],
      "metadata": {
        "id": "Njar_HXpy6gF"
      }
    },
    {
      "cell_type": "code",
      "source": [
        "a = int(input(\"Input an integer : \"))\n",
        "n1 = int(\"%s\" % a)\n",
        "n2 = int(\"%s%s\" % (a, a))\n",
        "n3 = int(\"%s%s%s\" % (a,a,a))\n",
        "print(n1+n2+n3)\n"
      ],
      "metadata": {
        "colab": {
          "base_uri": "https://localhost:8080/"
        },
        "id": "hz7OYHgz0MoB",
        "outputId": "2b085d4d-0570-4904-8618-563585dac2de"
      },
      "execution_count": null,
      "outputs": [
        {
          "output_type": "stream",
          "name": "stdout",
          "text": [
            "Input an integer : 12\n",
            "122436\n"
          ]
        }
      ]
    }
  ]
}