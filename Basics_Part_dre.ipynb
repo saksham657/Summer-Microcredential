{
  "nbformat": 4,
  "nbformat_minor": 0,
  "metadata": {
    "colab": {
      "name": "Basics Part dre.ipynb",
      "provenance": [],
      "collapsed_sections": [],
      "authorship_tag": "ABX9TyP11O+/2jMpocNioa6mAg5I",
      "include_colab_link": true
    },
    "kernelspec": {
      "name": "python3",
      "display_name": "Python 3"
    },
    "language_info": {
      "name": "python"
    }
  },
  "cells": [
    {
      "cell_type": "markdown",
      "metadata": {
        "id": "view-in-github",
        "colab_type": "text"
      },
      "source": [
        "<a href=\"https://colab.research.google.com/github/saksham657/Summer-Microcredential/blob/main/Basics_Part_dre.ipynb\" target=\"_parent\"><img src=\"https://colab.research.google.com/assets/colab-badge.svg\" alt=\"Open In Colab\"/></a>"
      ]
    },
    {
      "cell_type": "markdown",
      "source": [
        "## Intro to python part III\n",
        "\n",
        "## Conditionals & Loops!!!"
      ],
      "metadata": {
        "id": "CoFaXdeiGjX0"
      }
    },
    {
      "cell_type": "markdown",
      "source": [
        "## Conditionals\n",
        "### IF... ELIF...ELSE Statement !!!"
      ],
      "metadata": {
        "id": "WTMcEP87HTI8"
      }
    },
    {
      "cell_type": "code",
      "source": [
        "## Syntax for using the if statement: \n",
        "\n",
        "# \n",
        "\"\"\"\n",
        "if(condition):\n",
        "  do something\n",
        "\n",
        "\"\"\"\n",
        "#"
      ],
      "metadata": {
        "colab": {
          "base_uri": "https://localhost:8080/",
          "height": 35
        },
        "id": "FtwEral6HXBU",
        "outputId": "8001f1d9-5ba5-4ae9-b502-5ea9f8db3390"
      },
      "execution_count": 2,
      "outputs": [
        {
          "output_type": "execute_result",
          "data": {
            "text/plain": [
              "'\\nif(condition):\\n  do something\\n\\n'"
            ],
            "application/vnd.google.colaboratory.intrinsic+json": {
              "type": "string"
            }
          },
          "metadata": {},
          "execution_count": 2
        }
      ]
    },
    {
      "cell_type": "code",
      "source": [
        "# If Statement\n",
        "\n",
        "if 3 > 2:\n",
        "  print(\"Right\")"
      ],
      "metadata": {
        "colab": {
          "base_uri": "https://localhost:8080/"
        },
        "id": "b0OHMmHCHyDY",
        "outputId": "0cd8a703-038c-4da9-b322-f5bae294eff1"
      },
      "execution_count": 3,
      "outputs": [
        {
          "output_type": "stream",
          "name": "stdout",
          "text": [
            "Right\n"
          ]
        }
      ]
    },
    {
      "cell_type": "code",
      "source": [
        "##  If and else statement \n",
        "\n",
        "if 4 > 7:\n",
        "  print(\"Right\")\n",
        "else:\n",
        "    print(\"Wrong\")"
      ],
      "metadata": {
        "colab": {
          "base_uri": "https://localhost:8080/"
        },
        "id": "562D2Xj2H9bb",
        "outputId": "4b0ff5cb-c1ab-4999-a7cd-c67bd9a461b2"
      },
      "execution_count": 5,
      "outputs": [
        {
          "output_type": "stream",
          "name": "stdout",
          "text": [
            "Wrong\n"
          ]
        }
      ]
    },
    {
      "cell_type": "code",
      "source": [
        "## Use of If & Else statement to see which statement is true\n",
        "\n",
        "a = 3\n",
        "b = 5\n",
        "\n",
        "if a > b:\n",
        "  print(\"Yes, It is right!\")\n",
        "else:\n",
        "  print(\"Try again!!!\")\n"
      ],
      "metadata": {
        "colab": {
          "base_uri": "https://localhost:8080/"
        },
        "id": "27CvcBozIFJS",
        "outputId": "5b78cbfa-618e-4a26-dfcd-f5e93e172df9"
      },
      "execution_count": 6,
      "outputs": [
        {
          "output_type": "stream",
          "name": "stdout",
          "text": [
            "Try again!!!\n"
          ]
        }
      ]
    },
    {
      "cell_type": "code",
      "source": [
        "## 2 string conditions to determine which is true: \n",
        "\n",
        "drink = \"Tea\"\n",
        "\n",
        "if drink == \"Coffe\":\n",
        "  print(\"Humanity runs on coffee\")\n",
        "else: \n",
        "  print(\"Where there is tea, There is a hope!!!\")"
      ],
      "metadata": {
        "colab": {
          "base_uri": "https://localhost:8080/"
        },
        "id": "PLjAknI1IY3f",
        "outputId": "b2a1c308-78a2-4e71-d1db-ce1aaefd07f4"
      },
      "execution_count": 7,
      "outputs": [
        {
          "output_type": "stream",
          "name": "stdout",
          "text": [
            "Where there is tea, There is a hope!!!\n"
          ]
        }
      ]
    },
    {
      "cell_type": "code",
      "source": [
        "## elif statement \n",
        "# used to add multiple conditional expressions between the if and else conditions. \n",
        "drink = \"Coke\"\n",
        "\n",
        "if drink == \"Coffee\":\n",
        "  print(\"Humanity runs on coffee!!!\")\n",
        "elif drink == \"Water\":\n",
        "  print(\"Water is the soul of earth!!!\")\n",
        "elif drink == \"Coke\":\n",
        "  print(\"Coke is the new fuel for the programer\")\n",
        "else: \n",
        "  print(\"Where there is a tea, there's a hope !!!\")\n"
      ],
      "metadata": {
        "colab": {
          "base_uri": "https://localhost:8080/"
        },
        "id": "Xua2NNZUImyy",
        "outputId": "b13c5ba5-f36e-4fc8-de36-23e26c19468e"
      },
      "execution_count": 8,
      "outputs": [
        {
          "output_type": "stream",
          "name": "stdout",
          "text": [
            "Coke is the new fuel for the programer\n"
          ]
        }
      ]
    },
    {
      "cell_type": "markdown",
      "source": [
        "## Loops!!\n",
        "\n",
        "### For... Loop"
      ],
      "metadata": {
        "id": "uXyJydnWJTk8"
      }
    },
    {
      "cell_type": "code",
      "source": [
        "## Structure of how do we make a loop\n",
        "\n",
        "\"\"\"\n",
        "for iterator in array:\n",
        "  do something\n",
        "\"\"\"\n",
        " # Multi- line comment\n",
        "\n",
        "\n"
      ],
      "metadata": {
        "colab": {
          "base_uri": "https://localhost:8080/",
          "height": 35
        },
        "id": "TCF8oNyaLwgJ",
        "outputId": "f49699c3-b196-4fb3-9523-decbe7b52000"
      },
      "execution_count": 11,
      "outputs": [
        {
          "output_type": "execute_result",
          "data": {
            "text/plain": [
              "'\\nfor iterator in array:\\n  do something\\n'"
            ],
            "application/vnd.google.colaboratory.intrinsic+json": {
              "type": "string"
            }
          },
          "metadata": {},
          "execution_count": 11
        }
      ]
    },
    {
      "cell_type": "code",
      "source": [
        "my_list = [1,2,3,4,5,6,7,8,9,10]"
      ],
      "metadata": {
        "id": "4AgLgQxCLoJf"
      },
      "execution_count": 9,
      "outputs": []
    },
    {
      "cell_type": "code",
      "source": [
        "# FOR SOMETHING IN SOMETHING (Comment)\n",
        "for num in my_list:\n",
        "  print(num)"
      ],
      "metadata": {
        "colab": {
          "base_uri": "https://localhost:8080/"
        },
        "id": "O63qyLtRL-Kn",
        "outputId": "2214b706-a2dd-43f6-89d4-f582532c67a6"
      },
      "execution_count": 10,
      "outputs": [
        {
          "output_type": "stream",
          "name": "stdout",
          "text": [
            "1\n",
            "2\n",
            "3\n",
            "4\n",
            "5\n",
            "6\n",
            "7\n",
            "8\n",
            "9\n",
            "10\n"
          ]
        }
      ]
    },
    {
      "cell_type": "code",
      "source": [
        "# i - iterator\n",
        "# if the number (i) when you divide by 2 gives me a remainder of 0\n",
        "# I want to print that number\n",
        "for i in my_list:\n",
        "  if i % 2 == 0:\n",
        "    print(i)"
      ],
      "metadata": {
        "colab": {
          "base_uri": "https://localhost:8080/"
        },
        "id": "X_Cc5dw5MDis",
        "outputId": "86284ac4-e394-46e2-b5f1-a9418e905ee2"
      },
      "execution_count": 14,
      "outputs": [
        {
          "output_type": "stream",
          "name": "stdout",
          "text": [
            "2\n",
            "4\n",
            "6\n",
            "8\n",
            "10\n"
          ]
        }
      ]
    },
    {
      "cell_type": "code",
      "source": [
        "for num in my_list:\n",
        "  if num % 2 != 0:\n",
        "    print(num)"
      ],
      "metadata": {
        "colab": {
          "base_uri": "https://localhost:8080/"
        },
        "id": "FuO12wEVM0Qa",
        "outputId": "148bea05-7a04-42b1-c5e7-09db2601a107"
      },
      "execution_count": 16,
      "outputs": [
        {
          "output_type": "stream",
          "name": "stdout",
          "text": [
            "1\n",
            "3\n",
            "5\n",
            "7\n",
            "9\n"
          ]
        }
      ]
    },
    {
      "cell_type": "code",
      "source": [
        "## Interview question: to add all the numbers in a list\n",
        "my_list = [1,2,3,4,5, 45, 6, 34]\n",
        "list_sum = 0\n",
        "\n",
        "for num in my_list:\n",
        "  list_sum = list_sum + num\n",
        "print(list_sum)"
      ],
      "metadata": {
        "colab": {
          "base_uri": "https://localhost:8080/"
        },
        "id": "dYDkCwo-NBsR",
        "outputId": "d02862d6-6042-4346-db81-64954d3636e7"
      },
      "execution_count": 17,
      "outputs": [
        {
          "output_type": "stream",
          "name": "stdout",
          "text": [
            "100\n"
          ]
        }
      ]
    },
    {
      "cell_type": "code",
      "source": [
        "# How to define a for loop\n",
        "my_string = \"Hello World\"\n",
        "\n",
        "for x in my_string:\n",
        "  print(x)"
      ],
      "metadata": {
        "colab": {
          "base_uri": "https://localhost:8080/"
        },
        "id": "uV5c4YQLN1ew",
        "outputId": "1532f2e3-29d7-407b-8194-24d8d47ec381"
      },
      "execution_count": 19,
      "outputs": [
        {
          "output_type": "stream",
          "name": "stdout",
          "text": [
            "H\n",
            "e\n",
            "l\n",
            "l\n",
            "o\n",
            " \n",
            "W\n",
            "o\n",
            "r\n",
            "l\n",
            "d\n"
          ]
        }
      ]
    },
    {
      "cell_type": "code",
      "source": [
        "# Tuple\n",
        "my_list = [(1,2), (3,4), (5,6), (7,8)]\n",
        "len(my_list)"
      ],
      "metadata": {
        "colab": {
          "base_uri": "https://localhost:8080/"
        },
        "id": "nSTo_mA1OAMB",
        "outputId": "6f1a4e78-a134-4f61-c3b1-22eedb708217"
      },
      "execution_count": 20,
      "outputs": [
        {
          "output_type": "execute_result",
          "data": {
            "text/plain": [
              "4"
            ]
          },
          "metadata": {},
          "execution_count": 20
        }
      ]
    },
    {
      "cell_type": "code",
      "source": [
        "for tup in my_list:\n",
        "  print(tup)"
      ],
      "metadata": {
        "colab": {
          "base_uri": "https://localhost:8080/"
        },
        "id": "xdvQ8ZdhOPjj",
        "outputId": "671ac273-a5b5-4aa8-ac97-680f5c5708d5"
      },
      "execution_count": 21,
      "outputs": [
        {
          "output_type": "stream",
          "name": "stdout",
          "text": [
            "(1, 2)\n",
            "(3, 4)\n",
            "(5, 6)\n",
            "(7, 8)\n"
          ]
        }
      ]
    },
    {
      "cell_type": "code",
      "source": [
        "for a,b in my_list:\n",
        "  print(a,b)"
      ],
      "metadata": {
        "colab": {
          "base_uri": "https://localhost:8080/"
        },
        "id": "k3brix6POWtZ",
        "outputId": "6c11023f-a2be-4f8f-cca0-10599b2cd1e6"
      },
      "execution_count": 22,
      "outputs": [
        {
          "output_type": "stream",
          "name": "stdout",
          "text": [
            "1 2\n",
            "3 4\n",
            "5 6\n",
            "7 8\n"
          ]
        }
      ]
    },
    {
      "cell_type": "code",
      "source": [
        "for a,b in my_list:\n",
        "  print(a)"
      ],
      "metadata": {
        "colab": {
          "base_uri": "https://localhost:8080/"
        },
        "id": "Wc9C7twPOcmT",
        "outputId": "5d375564-ceee-41bb-d827-8c8f692728e2"
      },
      "execution_count": 23,
      "outputs": [
        {
          "output_type": "stream",
          "name": "stdout",
          "text": [
            "1\n",
            "3\n",
            "5\n",
            "7\n"
          ]
        }
      ]
    },
    {
      "cell_type": "code",
      "source": [
        "my_list = [(1,2,3), (4,5,6), (7,8,9)]"
      ],
      "metadata": {
        "id": "2aiEiQutOgWu"
      },
      "execution_count": 24,
      "outputs": []
    },
    {
      "cell_type": "code",
      "source": [
        "for a,b,c in my_list:\n",
        "  print(b,c)"
      ],
      "metadata": {
        "colab": {
          "base_uri": "https://localhost:8080/"
        },
        "id": "6ccqDP2qOqHX",
        "outputId": "85bea9ee-cb05-4dc3-dad2-0caedc9453fc"
      },
      "execution_count": 25,
      "outputs": [
        {
          "output_type": "stream",
          "name": "stdout",
          "text": [
            "2 3\n",
            "5 6\n",
            "8 9\n"
          ]
        }
      ]
    },
    {
      "cell_type": "code",
      "source": [
        "my_dict = {\"k1\":1, \"k2\":2, \"k3\":3}"
      ],
      "metadata": {
        "id": "0OOjzQCcOuIG"
      },
      "execution_count": 26,
      "outputs": []
    },
    {
      "cell_type": "code",
      "source": [
        "for i in my_dict:\n",
        "  print(i)"
      ],
      "metadata": {
        "colab": {
          "base_uri": "https://localhost:8080/"
        },
        "id": "Z616S8xbO2CP",
        "outputId": "c5a6dc10-606b-4540-ad5f-366377b591b1"
      },
      "execution_count": 28,
      "outputs": [
        {
          "output_type": "stream",
          "name": "stdout",
          "text": [
            "k1\n",
            "k2\n",
            "k3\n"
          ]
        }
      ]
    },
    {
      "cell_type": "code",
      "source": [
        "my_dict.items()"
      ],
      "metadata": {
        "colab": {
          "base_uri": "https://localhost:8080/"
        },
        "id": "ZUfqqvOuO4aN",
        "outputId": "396bf6af-b022-436d-95a6-15fb6234db4e"
      },
      "execution_count": 29,
      "outputs": [
        {
          "output_type": "execute_result",
          "data": {
            "text/plain": [
              "dict_items([('k1', 1), ('k2', 2), ('k3', 3)])"
            ]
          },
          "metadata": {},
          "execution_count": 29
        }
      ]
    },
    {
      "cell_type": "code",
      "source": [
        "for i in my_dict.items():\n",
        "  print(i)"
      ],
      "metadata": {
        "colab": {
          "base_uri": "https://localhost:8080/"
        },
        "id": "ySNTU4eUO9xi",
        "outputId": "177b15a7-6b13-4b1a-9c6b-a680124ab311"
      },
      "execution_count": 30,
      "outputs": [
        {
          "output_type": "stream",
          "name": "stdout",
          "text": [
            "('k1', 1)\n",
            "('k2', 2)\n",
            "('k3', 3)\n"
          ]
        }
      ]
    },
    {
      "cell_type": "code",
      "source": [
        "for a,b in my_dict.items():\n",
        "  print(b)"
      ],
      "metadata": {
        "colab": {
          "base_uri": "https://localhost:8080/"
        },
        "id": "-a83tn-pPBad",
        "outputId": "5fe90f6d-6383-4e7d-aef9-dc4aa4383748"
      },
      "execution_count": 31,
      "outputs": [
        {
          "output_type": "stream",
          "name": "stdout",
          "text": [
            "1\n",
            "2\n",
            "3\n"
          ]
        }
      ]
    },
    {
      "cell_type": "code",
      "source": [
        "# How to define a for loop\n",
        "# for loop with, \n",
        "# list\n",
        "# String\n",
        "# Tuple\n",
        "# Dictonary"
      ],
      "metadata": {
        "id": "iu90XK8XPGPS"
      },
      "execution_count": 32,
      "outputs": []
    },
    {
      "cell_type": "markdown",
      "source": [
        "## While loops!"
      ],
      "metadata": {
        "id": "qyZGztQ4PpJg"
      }
    },
    {
      "cell_type": "code",
      "source": [
        "# As long as i is less than 5, print the answer\n",
        "i = 0\n",
        "\n",
        "while i < 5:\n",
        "  print(i)\n",
        "  i = i + 1"
      ],
      "metadata": {
        "colab": {
          "base_uri": "https://localhost:8080/"
        },
        "id": "k_qQzMDdSAGJ",
        "outputId": "e33b5a1c-1a6a-4df2-fc3c-bd1d9048563c"
      },
      "execution_count": 34,
      "outputs": [
        {
          "output_type": "stream",
          "name": "stdout",
          "text": [
            "0\n",
            "1\n",
            "2\n",
            "3\n",
            "4\n"
          ]
        }
      ]
    },
    {
      "cell_type": "code",
      "source": [
        "i = 0\n",
        "\n",
        "while i < 5:\n",
        "  print(i)\n",
        "  i = i + 1\n",
        "else: \n",
        "  print(\"i is not less than 5\")"
      ],
      "metadata": {
        "colab": {
          "base_uri": "https://localhost:8080/"
        },
        "id": "VhBjRk5_SQkS",
        "outputId": "369fd44c-062e-4519-95e3-f0f066dd09de"
      },
      "execution_count": 35,
      "outputs": [
        {
          "output_type": "stream",
          "name": "stdout",
          "text": [
            "0\n",
            "1\n",
            "2\n",
            "3\n",
            "4\n",
            "i is not less than 5\n"
          ]
        }
      ]
    },
    {
      "cell_type": "code",
      "source": [
        "i = 10\n",
        "\n",
        "while i < 5:\n",
        "  print(i)\n",
        "  i = i + 1\n",
        "else: \n",
        "  print(\"i is not less than 5\")"
      ],
      "metadata": {
        "colab": {
          "base_uri": "https://localhost:8080/"
        },
        "id": "4j9X4O2ESto6",
        "outputId": "6adb1d92-c561-4733-808e-0b5d6a173244"
      },
      "execution_count": 36,
      "outputs": [
        {
          "output_type": "stream",
          "name": "stdout",
          "text": [
            "i is not less than 5\n"
          ]
        }
      ]
    },
    {
      "cell_type": "markdown",
      "source": [
        "## Pass, Break, and Continue"
      ],
      "metadata": {
        "id": "Id2rMuQRS3Nq"
      }
    },
    {
      "cell_type": "code",
      "source": [
        "i = [1,2,3,4,5]\n",
        "\n",
        "for items in i:\n",
        "  # comment\n",
        "    pass\n",
        "print(\"I will work after !!!\")"
      ],
      "metadata": {
        "colab": {
          "base_uri": "https://localhost:8080/"
        },
        "id": "R9wYqLc3THJ3",
        "outputId": "377231fa-ee61-4497-f935-d7221500e2d2"
      },
      "execution_count": 45,
      "outputs": [
        {
          "output_type": "stream",
          "name": "stdout",
          "text": [
            "I will work after !!!\n"
          ]
        }
      ]
    },
    {
      "cell_type": "code",
      "source": [
        "my_string = \"Hello world\"\n",
        "\n",
        "for letters in my_string:\n",
        "  if letters == \"r\":\n",
        "    break\n",
        "  print(letters)"
      ],
      "metadata": {
        "colab": {
          "base_uri": "https://localhost:8080/"
        },
        "id": "mBkL3ZkETV9k",
        "outputId": "1554d096-f054-4d15-d921-466a69f01fa8"
      },
      "execution_count": 41,
      "outputs": [
        {
          "output_type": "stream",
          "name": "stdout",
          "text": [
            "H\n",
            "e\n",
            "l\n",
            "l\n",
            "o\n",
            " \n",
            "w\n",
            "o\n"
          ]
        }
      ]
    },
    {
      "cell_type": "code",
      "source": [
        "my_string = \"Hello world\"\n",
        "\n",
        "for letters in my_string:\n",
        "  if letters == \"e\":\n",
        "    continue\n",
        "    \n",
        "  print(letters)"
      ],
      "metadata": {
        "colab": {
          "base_uri": "https://localhost:8080/"
        },
        "id": "VDUEA2ESTqkz",
        "outputId": "23083fcd-270c-46c1-b10a-39fe9b31ba77"
      },
      "execution_count": 43,
      "outputs": [
        {
          "output_type": "stream",
          "name": "stdout",
          "text": [
            "H\n",
            "l\n",
            "l\n",
            "o\n",
            " \n",
            "w\n",
            "o\n",
            "r\n",
            "l\n",
            "d\n"
          ]
        }
      ]
    },
    {
      "cell_type": "code",
      "source": [
        "i = 0\n",
        "while i < 5:\n",
        "  if i == 3:\n",
        "    break\n",
        "  print(i)\n",
        "  i = i + 1"
      ],
      "metadata": {
        "colab": {
          "base_uri": "https://localhost:8080/"
        },
        "id": "xnTxRHZMT8C9",
        "outputId": "7af0c28e-1e00-4ded-991f-4843b743b0ff"
      },
      "execution_count": 46,
      "outputs": [
        {
          "output_type": "stream",
          "name": "stdout",
          "text": [
            "0\n",
            "1\n",
            "2\n"
          ]
        }
      ]
    },
    {
      "cell_type": "markdown",
      "source": [
        "## Most used built- in functions in Python"
      ],
      "metadata": {
        "id": "jCPpqJZyUgED"
      }
    },
    {
      "cell_type": "markdown",
      "source": [
        "### 1) Range Function"
      ],
      "metadata": {
        "id": "gLOEDl9PUuVZ"
      }
    },
    {
      "cell_type": "code",
      "source": [
        "for num in range(10):\n",
        "  print(num)"
      ],
      "metadata": {
        "colab": {
          "base_uri": "https://localhost:8080/"
        },
        "id": "zfj4oGO5U1IE",
        "outputId": "2d0aa2e9-eb66-4d2e-92b7-1024d50e8f42"
      },
      "execution_count": 47,
      "outputs": [
        {
          "output_type": "stream",
          "name": "stdout",
          "text": [
            "0\n",
            "1\n",
            "2\n",
            "3\n",
            "4\n",
            "5\n",
            "6\n",
            "7\n",
            "8\n",
            "9\n"
          ]
        }
      ]
    },
    {
      "cell_type": "code",
      "source": [
        "for num in range(3,10):\n",
        "  print(num)"
      ],
      "metadata": {
        "colab": {
          "base_uri": "https://localhost:8080/"
        },
        "id": "v_aAWS3bU7xu",
        "outputId": "5a20cd3c-93ff-4534-eb3c-818792f423ad"
      },
      "execution_count": 48,
      "outputs": [
        {
          "output_type": "stream",
          "name": "stdout",
          "text": [
            "3\n",
            "4\n",
            "5\n",
            "6\n",
            "7\n",
            "8\n",
            "9\n"
          ]
        }
      ]
    },
    {
      "cell_type": "code",
      "source": [
        "for num in range(0,11,2):\n",
        "  print(num)"
      ],
      "metadata": {
        "colab": {
          "base_uri": "https://localhost:8080/"
        },
        "id": "7cDdqDM8VGP8",
        "outputId": "0915f1be-4d25-468f-d521-fa9bde12a1ba"
      },
      "execution_count": 49,
      "outputs": [
        {
          "output_type": "stream",
          "name": "stdout",
          "text": [
            "0\n",
            "2\n",
            "4\n",
            "6\n",
            "8\n",
            "10\n"
          ]
        }
      ]
    },
    {
      "cell_type": "code",
      "source": [
        "my_list = [1,2,3,4,5,6,7,8,9,10]\n",
        "range(10)\n",
        "list(range(10))\n",
        "list(range(1,11))"
      ],
      "metadata": {
        "colab": {
          "base_uri": "https://localhost:8080/"
        },
        "id": "MSOoAQiQVNwU",
        "outputId": "81824da1-2c08-4daf-85f7-34d6fef0635b"
      },
      "execution_count": 50,
      "outputs": [
        {
          "output_type": "execute_result",
          "data": {
            "text/plain": [
              "[1, 2, 3, 4, 5, 6, 7, 8, 9, 10]"
            ]
          },
          "metadata": {},
          "execution_count": 50
        }
      ]
    },
    {
      "cell_type": "markdown",
      "source": [
        "### 2) Enumerate\n",
        "*it gives back us an index count and object itself*"
      ],
      "metadata": {
        "id": "1NqFbb05VcxA"
      }
    },
    {
      "cell_type": "code",
      "source": [
        "word = \"Batman\"\n",
        "\n",
        "for items in word:\n",
        "  print(items)"
      ],
      "metadata": {
        "colab": {
          "base_uri": "https://localhost:8080/"
        },
        "id": "pn4blCc9VmkW",
        "outputId": "c5e9ebd4-c7af-430c-cbc1-caec76f7fb54"
      },
      "execution_count": 52,
      "outputs": [
        {
          "output_type": "stream",
          "name": "stdout",
          "text": [
            "B\n",
            "a\n",
            "t\n",
            "m\n",
            "a\n",
            "n\n"
          ]
        }
      ]
    },
    {
      "cell_type": "code",
      "source": [
        "for items in enumerate(word):\n",
        "  print(items)"
      ],
      "metadata": {
        "colab": {
          "base_uri": "https://localhost:8080/"
        },
        "id": "az4QE3QgVsrl",
        "outputId": "c0c5d02f-d6f3-49f2-8053-cb6db4fa2bb5"
      },
      "execution_count": 53,
      "outputs": [
        {
          "output_type": "stream",
          "name": "stdout",
          "text": [
            "(0, 'B')\n",
            "(1, 'a')\n",
            "(2, 't')\n",
            "(3, 'm')\n",
            "(4, 'a')\n",
            "(5, 'n')\n"
          ]
        }
      ]
    },
    {
      "cell_type": "code",
      "source": [
        "for a,b in enumerate(word):\n",
        "  print(a,b)"
      ],
      "metadata": {
        "colab": {
          "base_uri": "https://localhost:8080/"
        },
        "id": "6vvc96X9VwmP",
        "outputId": "dc2bab75-5009-4161-94c2-1e3f78af9076"
      },
      "execution_count": 54,
      "outputs": [
        {
          "output_type": "stream",
          "name": "stdout",
          "text": [
            "0 B\n",
            "1 a\n",
            "2 t\n",
            "3 m\n",
            "4 a\n",
            "5 n\n"
          ]
        }
      ]
    },
    {
      "cell_type": "code",
      "source": [
        "for a,b in enumerate(word):\n",
        "  print(a)\n",
        "  print(b)\n",
        "  print(\"\\n\")"
      ],
      "metadata": {
        "colab": {
          "base_uri": "https://localhost:8080/"
        },
        "id": "9QqNWjzaV2SV",
        "outputId": "ebe78605-3182-4cd2-c6f6-7a3341ad73d3"
      },
      "execution_count": 55,
      "outputs": [
        {
          "output_type": "stream",
          "name": "stdout",
          "text": [
            "0\n",
            "B\n",
            "\n",
            "\n",
            "1\n",
            "a\n",
            "\n",
            "\n",
            "2\n",
            "t\n",
            "\n",
            "\n",
            "3\n",
            "m\n",
            "\n",
            "\n",
            "4\n",
            "a\n",
            "\n",
            "\n",
            "5\n",
            "n\n",
            "\n",
            "\n"
          ]
        }
      ]
    },
    {
      "cell_type": "code",
      "source": [
        "## https://www.python-ds.com/python-3-escape-sequences\n"
      ],
      "metadata": {
        "id": "rfMDhrarWAWI"
      },
      "execution_count": 56,
      "outputs": []
    },
    {
      "cell_type": "markdown",
      "source": [
        "### 3) zip"
      ],
      "metadata": {
        "id": "5qiHj-THWK4I"
      }
    },
    {
      "cell_type": "code",
      "source": [
        "list1 = [1,2,3,4,5]\n",
        "list2 = [\"a\",\"b\",\"c\",\"d\",\"e\"]\n",
        "list3 = [\"a\", \"b\", \"d\"]\n"
      ],
      "metadata": {
        "id": "IOlxepH_WR21"
      },
      "execution_count": 57,
      "outputs": []
    },
    {
      "cell_type": "code",
      "source": [
        "list4 = zip(list1, list2)"
      ],
      "metadata": {
        "id": "iZ9gHdtHWdqC"
      },
      "execution_count": 58,
      "outputs": []
    },
    {
      "cell_type": "code",
      "source": [
        "print(list4)"
      ],
      "metadata": {
        "colab": {
          "base_uri": "https://localhost:8080/"
        },
        "id": "XXrwnKqAWhDN",
        "outputId": "31bd8bd2-ac19-4ebc-8a8b-8f3a879dd29f"
      },
      "execution_count": 59,
      "outputs": [
        {
          "output_type": "stream",
          "name": "stdout",
          "text": [
            "<zip object at 0x7f9fbd45e8c0>\n"
          ]
        }
      ]
    },
    {
      "cell_type": "code",
      "source": [
        "for items in zip(list1, list2):\n",
        "  print(items)"
      ],
      "metadata": {
        "colab": {
          "base_uri": "https://localhost:8080/"
        },
        "id": "LDaxWUVnWiPD",
        "outputId": "d130d023-f77a-4d6d-8841-64198b663686"
      },
      "execution_count": 61,
      "outputs": [
        {
          "output_type": "stream",
          "name": "stdout",
          "text": [
            "(1, 'a')\n",
            "(2, 'b')\n",
            "(3, 'c')\n",
            "(4, 'd')\n",
            "(5, 'e')\n"
          ]
        }
      ]
    },
    {
      "cell_type": "code",
      "source": [
        "for a,b in zip (list1, list2):\n",
        "  print(a,b)"
      ],
      "metadata": {
        "colab": {
          "base_uri": "https://localhost:8080/"
        },
        "id": "bq14-vrnWlzT",
        "outputId": "57f3847a-ef4f-48ba-ffda-c991893dcda7"
      },
      "execution_count": 62,
      "outputs": [
        {
          "output_type": "stream",
          "name": "stdout",
          "text": [
            "1 a\n",
            "2 b\n",
            "3 c\n",
            "4 d\n",
            "5 e\n"
          ]
        }
      ]
    },
    {
      "cell_type": "code",
      "source": [
        "for items in zip(list1, list2, list3):\n",
        "  print(items)"
      ],
      "metadata": {
        "colab": {
          "base_uri": "https://localhost:8080/"
        },
        "id": "4ZG-yppoWwlk",
        "outputId": "f5ea9035-65ef-4b3f-b809-0f60f023ced3"
      },
      "execution_count": 64,
      "outputs": [
        {
          "output_type": "stream",
          "name": "stdout",
          "text": [
            "(1, 'a', 'a')\n",
            "(2, 'b', 'b')\n",
            "(3, 'c', 'd')\n"
          ]
        }
      ]
    },
    {
      "cell_type": "code",
      "source": [
        "for a,b,c in zip(list1, list2, list3):\n",
        "  print(b)"
      ],
      "metadata": {
        "colab": {
          "base_uri": "https://localhost:8080/"
        },
        "id": "X1oejH1NW0EQ",
        "outputId": "3bf849ec-cbc0-4fa8-fa93-9b3af1ea5fd1"
      },
      "execution_count": 65,
      "outputs": [
        {
          "output_type": "stream",
          "name": "stdout",
          "text": [
            "a\n",
            "b\n",
            "c\n"
          ]
        }
      ]
    },
    {
      "cell_type": "code",
      "source": [
        ""
      ],
      "metadata": {
        "id": "7G2PTENHW6rA"
      },
      "execution_count": null,
      "outputs": []
    }
  ]
}