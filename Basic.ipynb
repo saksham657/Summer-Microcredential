{
  "nbformat": 4,
  "nbformat_minor": 0,
  "metadata": {
    "colab": {
      "name": "Basic.ipynb",
      "provenance": [],
      "authorship_tag": "ABX9TyMLZb2/GwgFPkLEF8dWuEHV",
      "include_colab_link": true
    },
    "kernelspec": {
      "name": "python3",
      "display_name": "Python 3"
    },
    "language_info": {
      "name": "python"
    }
  },
  "cells": [
    {
      "cell_type": "markdown",
      "metadata": {
        "id": "view-in-github",
        "colab_type": "text"
      },
      "source": [
        "<a href=\"https://colab.research.google.com/github/saksham657/Summer-Microcredential/blob/main/Basic.ipynb\" target=\"_parent\"><img src=\"https://colab.research.google.com/assets/colab-badge.svg\" alt=\"Open In Colab\"/></a>"
      ]
    },
    {
      "cell_type": "code",
      "source": [
        "# Basic Notebook"
      ],
      "metadata": {
        "id": "TefL6CkrdCwX"
      },
      "execution_count": null,
      "outputs": []
    },
    {
      "cell_type": "code",
      "execution_count": null,
      "metadata": {
        "id": "Oy2Q6DksZw3n"
      },
      "outputs": [],
      "source": [
        "print('Hi There')\n"
      ]
    },
    {
      "cell_type": "code",
      "source": [
        "import this"
      ],
      "metadata": {
        "id": "4n4ZKzzwe1Mc"
      },
      "execution_count": 7,
      "outputs": []
    },
    {
      "cell_type": "markdown",
      "source": [
        "Genghis Rules of Programming"
      ],
      "metadata": {
        "id": "PToH5ipmfV1A"
      }
    },
    {
      "cell_type": "markdown",
      "source": [
        "## 1. Read the documentation\n",
        "## 2. PRACTICE\n",
        "## 3. StackOverflow\n",
        "## 4. Genghis is NEVER WRONG!\n",
        "## 5. There is no spoon!\n"
      ],
      "metadata": {
        "id": "VZqrVep_ediz"
      }
    }
  ]
}